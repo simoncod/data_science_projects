{
 "cells": [
  {
   "cell_type": "markdown",
   "metadata": {},
   "source": [
    "## Data Description\n",
    "\n",
    "Context\n",
    "Party elites use endorsements to influence not only voters but also each other, hoping to get other powerful party members to rally behind the candidate they think would be most acceptable. The pace of endorsements — whether leaders coalesce early around a single candidate or are backing a variety of candidates — can indicate how drawn out the primary season will be. A lack of a consensus can mean that party leaders’ first-choice candidate may have more trouble securing the nomination.\n",
    "\n",
    "Content\n",
    "Endorsements to 2020 democratic candidates. Scoring rubric:\n",
    "\n",
    "10 points: • Former presidents and vice presidents • Current national party leaders\n",
    "\n",
    "8 points • Governors\n",
    "\n",
    "6 points U.S. senators\n",
    "\n",
    "5 points • Former presidential and vice-presidential nominees • Former national party leaders • 2020 presidential candidates who have dropped out\n",
    "\n",
    "3 points • U.S. representatives • Mayors of large cities\n",
    "\n",
    "2 points • Officials in statewide elected offices • State legislative leaders\n",
    "\n",
    "1 point • Other Democratic National Committee members\n",
    "\n",
    "Acknowledgements\n",
    "Dataset: https://projects.fivethirtyeight.com/2020-endorsements/democratic-primary/\n",
    "\n",
    "Article: https://fivethirtyeight.com/features/were-tracking-2020-presidential-endorsements-heres-why-they-probably-still-matter/\n",
    "\n",
    "Inspiration\n",
    "Who is more likely to win the 2020 primary?"
   ]
  },
  {
   "cell_type": "markdown",
   "metadata": {},
   "source": [
    "## Objective\n",
    "We will clean the original dataset and try to find is there any correlation between the endorsee and the endorser."
   ]
  },
  {
   "cell_type": "code",
   "execution_count": 1,
   "metadata": {},
   "outputs": [],
   "source": [
    "import pandas as pd\n",
    "import matplotlib.pyplot as plt\n",
    "import seaborn as sns"
   ]
  },
  {
   "cell_type": "code",
   "execution_count": 2,
   "metadata": {},
   "outputs": [
    {
     "name": "stdout",
     "output_type": "stream",
     "text": [
      "         date        position         city state          endorser  \\\n",
      "0  2017-07-28  representative          NaN    MD       David Trone   \n",
      "1  2019-01-02        governor          NaN    NY      Andrew Cuomo   \n",
      "2  2019-01-03         senator          NaN    CA  Dianne Feinstein   \n",
      "3  2019-01-08         senator          NaN    DE  Thomas R. Carper   \n",
      "4  2019-01-12           mayor  San Antonio    TX     Ron Nirenberg   \n",
      "\n",
      "        endorsee endorser party  \\\n",
      "0   John Delaney              D   \n",
      "1      Joe Biden              D   \n",
      "2      Joe Biden              D   \n",
      "3      Joe Biden              D   \n",
      "4  Julian Castro            NaN   \n",
      "\n",
      "                                              source  order         category  \\\n",
      "0  https://twitter.com/davidjtrone/status/8909859...    NaN  Representatives   \n",
      "1  https://www.cnn.com/2019/01/02/politics/cuomo-...    NaN        Governors   \n",
      "2  https://www.politico.com/story/2019/01/03/dian...    NaN         Senators   \n",
      "3  https://fox61.com/2019/01/08/will-he-or-wont-h...    NaN         Senators   \n",
      "4  https://www.sacurrent.com/the-daily/archives/2...    6.0           Mayors   \n",
      "\n",
      "  body  district  points  \n",
      "0  NaN       6.0       3  \n",
      "1  NaN       NaN       8  \n",
      "2  NaN       NaN       6  \n",
      "3  NaN       NaN       6  \n",
      "4  NaN       NaN       3  \n"
     ]
    }
   ],
   "source": [
    "df = pd.read_csv('endorsements-2020.csv')\n",
    "print(df.head())"
   ]
  },
  {
   "cell_type": "markdown",
   "metadata": {},
   "source": [
    "## Data preprocessing"
   ]
  },
  {
   "cell_type": "code",
   "execution_count": 3,
   "metadata": {},
   "outputs": [
    {
     "name": "stdout",
     "output_type": "stream",
     "text": [
      "date               object\n",
      "position           object\n",
      "city               object\n",
      "state              object\n",
      "endorser           object\n",
      "endorsee           object\n",
      "endorser party     object\n",
      "source             object\n",
      "order             float64\n",
      "category           object\n",
      "body               object\n",
      "district          float64\n",
      "points              int64\n",
      "dtype: object\n"
     ]
    }
   ],
   "source": [
    "# view the type in each column\n",
    "print(df.dtypes)"
   ]
  },
  {
   "cell_type": "code",
   "execution_count": 4,
   "metadata": {},
   "outputs": [
    {
     "name": "stdout",
     "output_type": "stream",
     "text": [
      "date              757\n",
      "position            0\n",
      "city              959\n",
      "state               0\n",
      "endorser            0\n",
      "endorsee          757\n",
      "endorser party      7\n",
      "source            757\n",
      "order             850\n",
      "category            0\n",
      "body              901\n",
      "district          775\n",
      "points              0\n",
      "dtype: int64\n"
     ]
    }
   ],
   "source": [
    "# view the total missing values\n",
    "print(df.isnull().sum())"
   ]
  },
  {
   "cell_type": "code",
   "execution_count": 5,
   "metadata": {},
   "outputs": [
    {
     "name": "stdout",
     "output_type": "stream",
     "text": [
      "Shape before dropped: (1006, 13)\n",
      "Shape after row dropped: (247, 13)\n"
     ]
    }
   ],
   "source": [
    "# drop all the rows containing missing value in the endorser party column and the endorsee column\n",
    "print(f'Shape before dropped: {df.shape}')\n",
    "df_dropped = df.dropna(subset=['endorsee','endorser party'], axis=0)\n",
    "print(f'Shape after row dropped: {df_dropped.shape}')"
   ]
  },
  {
   "cell_type": "code",
   "execution_count": 6,
   "metadata": {},
   "outputs": [
    {
     "name": "stdout",
     "output_type": "stream",
     "text": [
      "Shape after col dropped: (247, 8)\n"
     ]
    }
   ],
   "source": [
    "# drop the rest of all the columns that contain missing value and source column\n",
    "df_dropped = df_dropped.dropna(axis=1).drop('source', axis=1)\n",
    "print(f'Shape after col dropped: {df_dropped.shape}')"
   ]
  },
  {
   "cell_type": "code",
   "execution_count": 7,
   "metadata": {},
   "outputs": [
    {
     "name": "stdout",
     "output_type": "stream",
     "text": [
      "date              0\n",
      "position          0\n",
      "state             0\n",
      "endorser          0\n",
      "endorsee          0\n",
      "endorser party    0\n",
      "category          0\n",
      "points            0\n",
      "dtype: int64\n"
     ]
    }
   ],
   "source": [
    "# review the total missing values\n",
    "print(df_dropped.isnull().sum())"
   ]
  },
  {
   "cell_type": "code",
   "execution_count": 8,
   "metadata": {},
   "outputs": [
    {
     "name": "stdout",
     "output_type": "stream",
     "text": [
      "Joe Biden             81\n",
      "Elizabeth Warren      33\n",
      "Bernie Sanders        27\n",
      "Kamala Harris         24\n",
      "Cory Booker           21\n",
      "Michael Bloomberg     17\n",
      "Pete Buttigieg        14\n",
      "Amy Klobuchar         14\n",
      "Michael Bennet         4\n",
      "Jay Inslee             4\n",
      "John Delaney           2\n",
      "Steve Bullock          2\n",
      "Beto O'Rourke          1\n",
      "Julian Castro          1\n",
      "Kirsten Gillibrand     1\n",
      "Tom Steyer             1\n",
      "Name: endorsee, dtype: int64\n"
     ]
    }
   ],
   "source": [
    "# who gets the most endorsement?\n",
    "most_endorsed = df_dropped['endorsee'].value_counts().sort_values(ascending=False)\n",
    "print(most_endorsed)"
   ]
  },
  {
   "cell_type": "code",
   "execution_count": 9,
   "metadata": {},
   "outputs": [
    {
     "data": {
      "text/plain": [
       "Text(0.5, 1.0, 'number of endorsement each candidate gets')"
      ]
     },
     "execution_count": 9,
     "metadata": {},
     "output_type": "execute_result"
    },
    {
     "data": {
      "image/png": "[encoded data removed]",
      "text/plain": [
       "<Figure size 1584x432 with 1 Axes>"
      ]
     },
     "metadata": {
      "needs_background": "light"
     },
     "output_type": "display_data"
    }
   ],
   "source": [
    "%matplotlib inline\n",
    "plt.figure(figsize=(22,6))\n",
    "sns.barplot(most_endorsed.index, most_endorsed.values)\n",
    "plt.title('number of endorsement each candidate gets')"
   ]
  },
  {
   "cell_type": "markdown",
   "metadata": {},
   "source": [
    "Joe Biden gets the majority of endorsement followed by Elizabeth Warren at second and Bernie Sanders at third"
   ]
  },
  {
   "cell_type": "code",
   "execution_count": 10,
   "metadata": {},
   "outputs": [
    {
     "name": "stdout",
     "output_type": "stream",
     "text": [
      "                   points\n",
      "endorsee                 \n",
      "Joe Biden             252\n",
      "Elizabeth Warren       87\n",
      "Kamala Harris          66\n",
      "Bernie Sanders         55\n",
      "Cory Booker            54\n",
      "Amy Klobuchar          53\n",
      "Michael Bloomberg      47\n",
      "Pete Buttigieg         36\n",
      "Michael Bennet         15\n",
      "Jay Inslee             11\n",
      "<class 'pandas.core.frame.DataFrame'>\n"
     ]
    }
   ],
   "source": [
    "# which endorsee scored the highest?\n",
    "grouped = df_dropped[['endorsee', 'points']].groupby('endorsee').sum().sort_values(['points'],ascending=False)[:10]\n",
    "print(grouped)\n",
    "print(type(grouped))"
   ]
  },
  {
   "cell_type": "code",
   "execution_count": 11,
   "metadata": {},
   "outputs": [
    {
     "data": {
      "text/plain": [
       "Text(0.5, 1.0, 'Top 10 candidate that scored the highest point')"
      ]
     },
     "execution_count": 11,
     "metadata": {},
     "output_type": "execute_result"
    },
    {
     "data": {
      "image/png": "[encoded data removed]",
      "text/plain": [
       "<Figure size 1008x288 with 1 Axes>"
      ]
     },
     "metadata": {
      "needs_background": "light"
     },
     "output_type": "display_data"
    }
   ],
   "source": [
    "plt.figure(figsize=(14,4))\n",
    "sns.barplot(grouped.index, grouped.values.reshape(-1))\n",
    "plt.title('Top 10 candidate that scored the highest point')"
   ]
  },
  {
   "cell_type": "markdown",
   "metadata": {},
   "source": [
    "Joe Biden scored 252 points in first place followed by Elizabeth Warren with 87 points and Kamala Harris with 66 points"
   ]
  },
  {
   "cell_type": "code",
   "execution_count": 12,
   "metadata": {},
   "outputs": [
    {
     "name": "stdout",
     "output_type": "stream",
     "text": [
      "D    246\n",
      "R      1\n",
      "Name: endorser party, dtype: int64\n",
      "          date        position state       endorser     endorsee  \\\n",
      "50  2019-02-21  representative    NJ  Jeff Van Drew  Cory Booker   \n",
      "\n",
      "   endorser party         category  points  \n",
      "50              R  Representatives       3  \n"
     ]
    }
   ],
   "source": [
    "# is there any republican endorsed a democratic candidate?\n",
    "party_counts = df_dropped['endorser party'].value_counts()\n",
    "print(party_counts)\n",
    "repub = df_dropped[df_dropped['endorser party'] == 'R']\n",
    "# view rows that contain republicans\n",
    "print(repub)"
   ]
  },
  {
   "cell_type": "markdown",
   "metadata": {},
   "source": [
    "There's only one republican who had endorse a democratic candidate. "
   ]
  },
  {
   "cell_type": "code",
   "execution_count": 29,
   "metadata": {},
   "outputs": [
    {
     "name": "stdout",
     "output_type": "stream",
     "text": [
      "endorsee           state\n",
      "Cory Booker        NJ       19\n",
      "Kamala Harris      CA       14\n",
      "Amy Klobuchar      MN       13\n",
      "Joe Biden          CA       12\n",
      "Elizabeth Warren   MA       10\n",
      "Bernie Sanders     VT        8\n",
      "Michael Bloomberg  CA        7\n",
      "Joe Biden          PA        7\n",
      "                   TX        5\n",
      "                   FL        5\n",
      "Name: state, dtype: int64\n",
      "endorsee           category               \n",
      "Joe Biden          Representatives            40\n",
      "Kamala Harris      Representatives            13\n",
      "Elizabeth Warren   Representatives            12\n",
      "Bernie Sanders     DNC members                11\n",
      "Joe Biden          DNC members                11\n",
      "Cory Booker        Representatives             9\n",
      "Bernie Sanders     Representatives             7\n",
      "Cory Booker        DNC members                 7\n",
      "Elizabeth Warren   Statewide officeholders     7\n",
      "Michael Bloomberg  Representatives             6\n",
      "Name: category, dtype: int64\n"
     ]
    }
   ],
   "source": [
    "# view the correlation between the endorsee and the endorser's state as well as their status\n",
    "group_by_endorsee = df_dropped[['state', 'endorsee', 'category']].groupby('endorsee')\n",
    "print(group_by_endorsee['state'].value_counts().sort_values(ascending=False)[:10])\n",
    "print(group_by_endorsee['category'].value_counts().sort_values(ascending=False)[:10])"
   ]
  },
  {
   "cell_type": "markdown",
   "metadata": {},
   "source": [
    "Interestingly only Cory Booker, Kamala Harris, and Amy Klobuchar had shown significant hometown advantage. Also we discovered most of the endorsers are demographic representatives.  "
   ]
  }
 ],
 "metadata": {
  "kernelspec": {
   "display_name": "Python 3",
   "language": "python",
   "name": "python3"
  },
  "language_info": {
   "codemirror_mode": {
    "name": "ipython",
    "version": 3
   },
   "file_extension": ".py",
   "mimetype": "text/x-python",
   "name": "python",
   "nbconvert_exporter": "python",
   "pygments_lexer": "ipython3",
   "version": "3.7.4"
  }
 },
 "nbformat": 4,
 "nbformat_minor": 2
}
