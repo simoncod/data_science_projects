{
 "cells": [
  {
   "cell_type": "markdown",
   "metadata": {
    "collapsed": true
   },
   "source": [
    "In this guided project, we'll work with exit surveys from employees of the Department of Education, Training and Employment (DETE) and the Technical and Further Education (TAFE) institute in Queensland, Australia. You can find the TAFE exit survey here and the survey for the DETE here.\n",
    "\n",
    "In this project, we'll play the role of data analyst and pretend our stakeholders want to know the following:\n",
    "\n",
    "* Are employees who only worked for the institutes for a short period of time resigning due to some kind of dissatisfaction? What about employees who have been there longer?\n",
    "* Are younger employees resigning due to some kind of dissatisfaction? What about older employees?\n"
   ]
  },
  {
   "cell_type": "markdown",
   "metadata": {},
   "source": [
    "Below is a preview of a couple columns we'll work with from the dete_survey.csv:\n",
    "\n",
    " * ID: An id used to identify the participant of the survey\n",
    " * SeparationType: The reason why the person's employment ended\n",
    " * Cease Date: The year or month the person's employment ended\n",
    " * DETE Start Date: The year the person began employment with the DETE\n",
    "\n",
    "Below is a preview of a couple columns we'll work with from the tafe_survey.csv:\n",
    "\n",
    "* Record ID: An id used to identify the participant of the survey\n",
    "* Reason for ceasing employment: The reason why the person's employment ended\n",
    "* LengthofServiceOverall. Overall Length of Service at Institute (in years): The length of the person's employment (in years)"
   ]
  },
  {
   "cell_type": "code",
   "execution_count": 1,
   "metadata": {
    "collapsed": true
   },
   "outputs": [],
   "source": [
    "import numpy as np\n",
    "import pandas as pd"
   ]
  },
  {
   "cell_type": "code",
   "execution_count": 3,
   "metadata": {
    "collapsed": false
   },
   "outputs": [],
   "source": [
    "dete_survey = pd.read_csv('dete_survey.csv')\n",
    "tafe_survey = pd.read_csv('tafe_survey.csv')"
   ]
  },
  {
   "cell_type": "code",
   "execution_count": null,
   "metadata": {
    "collapsed": true
   },
   "outputs": [],
   "source": [
    "dete_s"
   ]
  }
 ],
 "metadata": {
  "kernelspec": {
   "display_name": "Python 3",
   "language": "python",
   "name": "python3"
  },
  "language_info": {
   "codemirror_mode": {
    "name": "ipython",
    "version": 3
   },
   "file_extension": ".py",
   "mimetype": "text/x-python",
   "name": "python",
   "nbconvert_exporter": "python",
   "pygments_lexer": "ipython3",
   "version": "3.4.3"
  }
 },
 "nbformat": 4,
 "nbformat_minor": 2
}
